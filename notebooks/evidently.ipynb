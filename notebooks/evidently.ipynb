{
 "cells": [
  {
   "cell_type": "code",
   "execution_count": 1,
   "metadata": {},
   "outputs": [],
   "source": [
    "import pandas as pd\n",
    "from evidently.test_suite import TestSuite\n",
    "from evidently.test_preset import DataStabilityTestPreset, NoTargetPerformanceTestPreset\n",
    "from evidently.tests import TestNumberOfColumnsWithMissingValues, TestNumberOfRowsWithMissingValues, \\\n",
    "    TestNumberOfConstantColumns, TestNumberOfDuplicatedRows, TestNumberOfDuplicatedColumns, TestColumnsType, \\\n",
    "    TestNumberOfDriftedColumns"
   ]
  },
  {
   "cell_type": "code",
   "execution_count": 3,
   "metadata": {},
   "outputs": [],
   "source": [
    "tests = TestSuite(tests=[\n",
    "    TestNumberOfColumnsWithMissingValues(),\n",
    "    TestNumberOfRowsWithMissingValues(),\n",
    "    TestNumberOfConstantColumns(),\n",
    "    TestNumberOfDuplicatedRows(),\n",
    "    TestNumberOfDuplicatedColumns(),\n",
    "    TestColumnsType(),\n",
    "    TestNumberOfDriftedColumns(),\n",
    "    NoTargetPerformanceTestPreset(),\n",
    "    DataStabilityTestPreset()\n",
    "])\n",
    "\n",
    "current = pd.read_csv(\"../data/validate/current_data.csv\")\n",
    "reference = pd.read_csv(\"../data/processed/reference_data.csv\")"
   ]
  },
  {
   "cell_type": "code",
   "execution_count": 4,
   "metadata": {},
   "outputs": [
    {
     "name": "stderr",
     "output_type": "stream",
     "text": [
      "c:\\Users\\Jaša\\AppData\\Local\\pypoetry\\Cache\\virtualenvs\\mbajk-prediction-system-2CPWC03m-py3.10\\lib\\site-packages\\numpy\\lib\\function_base.py:2897: RuntimeWarning: invalid value encountered in divide\n",
      "  c /= stddev[:, None]\n",
      "c:\\Users\\Jaša\\AppData\\Local\\pypoetry\\Cache\\virtualenvs\\mbajk-prediction-system-2CPWC03m-py3.10\\lib\\site-packages\\numpy\\lib\\function_base.py:2898: RuntimeWarning: invalid value encountered in divide\n",
      "  c /= stddev[None, :]\n",
      "c:\\Users\\Jaša\\AppData\\Local\\pypoetry\\Cache\\virtualenvs\\mbajk-prediction-system-2CPWC03m-py3.10\\lib\\site-packages\\numpy\\lib\\function_base.py:2897: RuntimeWarning: invalid value encountered in divide\n",
      "  c /= stddev[:, None]\n",
      "c:\\Users\\Jaša\\AppData\\Local\\pypoetry\\Cache\\virtualenvs\\mbajk-prediction-system-2CPWC03m-py3.10\\lib\\site-packages\\numpy\\lib\\function_base.py:2898: RuntimeWarning: invalid value encountered in divide\n",
      "  c /= stddev[None, :]\n",
      "c:\\Users\\Jaša\\AppData\\Local\\pypoetry\\Cache\\virtualenvs\\mbajk-prediction-system-2CPWC03m-py3.10\\lib\\site-packages\\numpy\\lib\\function_base.py:2897: RuntimeWarning: invalid value encountered in divide\n",
      "  c /= stddev[:, None]\n",
      "c:\\Users\\Jaša\\AppData\\Local\\pypoetry\\Cache\\virtualenvs\\mbajk-prediction-system-2CPWC03m-py3.10\\lib\\site-packages\\numpy\\lib\\function_base.py:2898: RuntimeWarning: invalid value encountered in divide\n",
      "  c /= stddev[None, :]\n",
      "c:\\Users\\Jaša\\AppData\\Local\\pypoetry\\Cache\\virtualenvs\\mbajk-prediction-system-2CPWC03m-py3.10\\lib\\site-packages\\numpy\\lib\\function_base.py:2897: RuntimeWarning: invalid value encountered in divide\n",
      "  c /= stddev[:, None]\n",
      "c:\\Users\\Jaša\\AppData\\Local\\pypoetry\\Cache\\virtualenvs\\mbajk-prediction-system-2CPWC03m-py3.10\\lib\\site-packages\\numpy\\lib\\function_base.py:2898: RuntimeWarning: invalid value encountered in divide\n",
      "  c /= stddev[None, :]\n"
     ]
    }
   ],
   "source": [
    "tests.run(reference_data=reference, current_data=current)"
   ]
  },
  {
   "cell_type": "code",
   "execution_count": 7,
   "metadata": {},
   "outputs": [],
   "source": [
    "tests.save_html(\"../reports/stability_tests.html\")"
   ]
  }
 ],
 "metadata": {
  "kernelspec": {
   "display_name": "mbajk-prediction-system-2CPWC03m-py3.10",
   "language": "python",
   "name": "python3"
  },
  "language_info": {
   "codemirror_mode": {
    "name": "ipython",
    "version": 3
   },
   "file_extension": ".py",
   "mimetype": "text/x-python",
   "name": "python",
   "nbconvert_exporter": "python",
   "pygments_lexer": "ipython3",
   "version": "3.10.10"
  }
 },
 "nbformat": 4,
 "nbformat_minor": 2
}
